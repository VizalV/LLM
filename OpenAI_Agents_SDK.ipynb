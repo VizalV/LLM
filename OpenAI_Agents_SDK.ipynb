{
  "nbformat": 4,
  "nbformat_minor": 0,
  "metadata": {
    "colab": {
      "provenance": []
    },
    "kernelspec": {
      "name": "python3",
      "display_name": "Python 3"
    },
    "language_info": {
      "name": "python"
    }
  },
  "cells": [
    {
      "cell_type": "code",
      "execution_count": null,
      "metadata": {
        "id": "Qm1thI2RRGTP"
      },
      "outputs": [],
      "source": [
        "!pip -q install openai-agents gradio"
      ]
    },
    {
      "cell_type": "code",
      "source": [
        "import os\n",
        "from google.colab import userdata\n",
        "openai_api_key = userdata.get('OPENAI_API_KEY')\n",
        "os.environ['OPENAI_API_KEY'] = openai_api_key\n",
        "\n",
        "# Verify that the key is set\n",
        "print(f\"OpenAI API key set: {bool(openai_api_key)}\")\n"
      ],
      "metadata": {
        "colab": {
          "base_uri": "https://localhost:8080/"
        },
        "id": "yzni0b_DSLm2",
        "outputId": "9a3dc5bb-3652-41c3-82e4-4a7d8973f19a"
      },
      "execution_count": null,
      "outputs": [
        {
          "output_type": "stream",
          "name": "stdout",
          "text": [
            "OpenAI API key set: True\n"
          ]
        }
      ]
    },
    {
      "cell_type": "code",
      "source": [
        "from agents import Agent, Runner\n",
        "\n",
        "agent = Agent(\n",
        "    name=\"Basic Agent\",\n",
        "    instructions=\"You are a helpful assistant. Respond in all caps.\",\n",
        "    model=\"gpt-4o-mini\"\n",
        ")\n",
        "\n",
        "result = await Runner.run(agent, \"Hello! How are you?\")\n",
        "result.final_output"
      ],
      "metadata": {
        "id": "dDh6kN52Xath",
        "colab": {
          "base_uri": "https://localhost:8080/",
          "height": 36
        },
        "outputId": "d40025a5-ae5a-4b19-dab4-77f0d972d4af",
        "collapsed": true
      },
      "execution_count": null,
      "outputs": [
        {
          "output_type": "execute_result",
          "data": {
            "text/plain": [
              "\"HELLO! I'M DOING GREAT, THANK YOU! HOW ABOUT YOU?\""
            ],
            "application/vnd.google.colaboratory.intrinsic+json": {
              "type": "string"
            }
          },
          "metadata": {},
          "execution_count": 53
        }
      ]
    },
    {
      "cell_type": "code",
      "source": [
        "joke_agent = Agent(\n",
        "    name=\"Joke Agent\",\n",
        "    instructions=\"You are a joke teller. You are given a topic and you need to tell a joke about it.\",\n",
        "    model=\"gpt-4o-mini\"\n",
        ")\n",
        "\n",
        "topic = \"Probability\"\n",
        "result = await Runner.run(joke_agent, topic)\n",
        "result.final_output"
      ],
      "metadata": {
        "id": "1vo8pbsGXpHb",
        "colab": {
          "base_uri": "https://localhost:8080/",
          "height": 36
        },
        "collapsed": true,
        "outputId": "09913a81-6060-42ac-b663-77431678fe43"
      },
      "execution_count": null,
      "outputs": [
        {
          "output_type": "execute_result",
          "data": {
            "text/plain": [
              "'Why did the statistician bring a ladder to the bar?\\n\\nBecause he heard the drinks were on the top shelf and the odds were in his favor!'"
            ],
            "application/vnd.google.colaboratory.intrinsic+json": {
              "type": "string"
            }
          },
          "metadata": {},
          "execution_count": 54
        }
      ]
    },
    {
      "cell_type": "code",
      "source": [
        "language_agent = Agent(\n",
        "    name=\"Language Agent\",\n",
        "    instructions=\"You are a language expert. You are given a joke and you need to rewrite it in a different language.\",\n",
        ")\n",
        "\n",
        "joke_result = await Runner.run(joke_agent, topic)\n",
        "translated_result = await Runner.run(language_agent, f\"Translate this joke to Spanish: {joke_result.final_output}\")\n",
        "print(f\"Original joke:\\n{joke_result.final_output}\\n\")\n",
        "print(f\"Translated joke:\\n{translated_result.final_output}\")"
      ],
      "metadata": {
        "id": "EWMrj5wuYvo6",
        "colab": {
          "base_uri": "https://localhost:8080/"
        },
        "outputId": "6063662b-9f56-4b83-bf37-216d0f49c02e"
      },
      "execution_count": null,
      "outputs": [
        {
          "output_type": "stream",
          "name": "stdout",
          "text": [
            "Original joke:\n",
            "Why did the probability teacher break up with the statistics teacher?\n",
            "\n",
            "Because she couldn’t handle his confidence intervals!\n",
            "\n",
            "Translated joke:\n",
            "¿Por qué la profesora de probabilidad rompió con el profesor de estadística?\n",
            "\n",
            "¡Porque no podía manejar sus intervalos de confianza!\n"
          ]
        }
      ]
    },
    {
      "cell_type": "markdown",
      "source": [
        "#Structured Outputs"
      ],
      "metadata": {
        "id": "Z08tW_NRcgnX"
      }
    },
    {
      "cell_type": "code",
      "source": [
        "from pydantic import BaseModel\n",
        "from agents import Agent\n",
        "\n",
        "class Recipe(BaseModel):\n",
        "    title: str\n",
        "    ingredients: list[str]\n",
        "    cooking_time: int # in minutes\n",
        "    servings: int\n",
        "\n",
        "recipe_agent = Agent(\n",
        "    name=\"Recipe Agent\",\n",
        "    instructions=(\"You are an agent for creating recipes. You will be given the name of a food and your job\"\n",
        "                  \" is to output that as an actual detailed recipe. The cooking time should be in minutes.\"),\n",
        "    output_type=Recipe\n",
        ")\n",
        "\n",
        "response = await Runner.run(recipe_agent, \"Italian Sasuage with Spaghetti\")\n",
        "recipe = response.final_output\n",
        "print(recipe)"
      ],
      "metadata": {
        "id": "7cb6L40EY549",
        "colab": {
          "base_uri": "https://localhost:8080/"
        },
        "outputId": "7f193471-84fd-435d-f6da-747f861e6c07"
      },
      "execution_count": null,
      "outputs": [
        {
          "output_type": "stream",
          "name": "stdout",
          "text": [
            "title='Italian Sausage with Spaghetti' ingredients=['4 Italian sausage links (mild or spicy, according to preference)', '250g spaghetti', '2 tablespoons olive oil', '1 onion, finely chopped', '2 cloves garlic, minced', '1 can (400g) crushed tomatoes', '1 teaspoon dried oregano', '1/2 teaspoon red pepper flakes (optional)', 'Salt and pepper, to taste', 'Fresh basil leaves, for garnish', 'Grated Parmesan cheese, for serving'] cooking_time=35 servings=4\n"
          ]
        }
      ]
    },
    {
      "cell_type": "markdown",
      "source": [
        "#Tools"
      ],
      "metadata": {
        "id": "ZV1y-bvXck0B"
      }
    },
    {
      "cell_type": "markdown",
      "source": [
        "### Websearch Tool"
      ],
      "metadata": {
        "id": "NMOUIKCWRyav"
      }
    },
    {
      "cell_type": "code",
      "source": [
        "from agents import WebSearchTool\n",
        "\n",
        "news_agent = Agent(\n",
        "    name=\"News Reporter\",\n",
        "    instructions=\"You are a news reporter. Your job is to find recent news articles on the US Politics\",\n",
        "    model=\"gpt-4o\",\n",
        "    tools=[WebSearchTool()]\n",
        ")\n",
        "\n",
        "result = await Runner.run(news_agent, \"find news\")\n",
        "print(result.final_output)"
      ],
      "metadata": {
        "colab": {
          "base_uri": "https://localhost:8080/"
        },
        "id": "UbWB9LQpayEI",
        "outputId": "257a0238-24b5-4e60-ea02-31a0f3588f2d"
      },
      "execution_count": null,
      "outputs": [
        {
          "output_type": "stream",
          "name": "stdout",
          "text": [
            "Here are the latest developments in U.S. politics as of April 29, 2025:\n",
            "\n",
            "**Congressional Leadership and Committee Changes**\n",
            "\n",
            "- **House Oversight Committee Leadership**: Representative Alexandria Ocasio-Cortez (AOC) is considering a bid to become the ranking member of the House Oversight Committee. This follows Representative Gerry Connolly stepping back due to cancer treatment. AOC's potential leadership could influence Democratic strategies and oversight activities in the House. ([axios.com](https://www.axios.com/newsletters/axios-hill-leaders-e7067bb0-242f-11f0-a543-0f906d9b0f91?utm_source=openai))\n",
            "\n",
            "- **Senate Republican Leadership**: Senate Majority Leader John Thune and Whip John Barrasso have highlighted record-low illegal border crossings under President Trump's second term, presenting it as a significant legislative achievement for the GOP. ([axios.com](https://www.axios.com/newsletters/axios-hill-leaders-e7067bb0-242f-11f0-a543-0f906d9b0f91?utm_source=openai))\n",
            "\n",
            "- **Senate Democratic Leadership**: Senator Brian Schatz of Hawaii is actively campaigning to become the next Senate Democratic whip, aiming to leverage his leadership experience and build support within the party. ([axios.com](https://www.axios.com/newsletters/axios-hill-leaders-e7067bb0-242f-11f0-a543-0f906d9b0f91?utm_source=openai))\n",
            "\n",
            "**Tax Policy and Legislative Deadlines**\n",
            "\n",
            "- **Tax Revisions Deadline**: The White House and congressional leaders have set a July 4 deadline to finalize major tax revisions. These include extending the 2017 tax cuts and fulfilling President Trump's campaign promises. Deliberations continue over complex provisions like SALT deductions and spending cuts, with the debt ceiling deadline looming in late summer. ([axios.com](https://www.axios.com/newsletters/axios-hill-leaders-e7067bb0-242f-11f0-a543-0f906d9b0f91?utm_source=openai))\n",
            "\n",
            "**Elon Musk's Political Involvement**\n",
            "\n",
            "- **Transition to Political Donor**: Elon Musk is preparing to become a significant Republican megadonor for the 2026 midterm elections. After leading the Department of Government Efficiency (DOGE) and implementing substantial federal job cuts, Musk faced controversy over conflicts of interest and transparency issues. He is now reducing his government involvement ahead of his 130-day service limit in May but is expected to continue advising President Trump and funding Republican campaigns. ([reuters.com](https://www.reuters.com/business/autos-transportation/musk-lays-groundwork-big-donor-role-midterm-elections-time-with-doge-ends-2025-04-28/?utm_source=openai))\n",
            "\n",
            "**Justice Department and Civil Rights Concerns**\n",
            "\n",
            "- **DOJ Civil Rights Division Changes**: Seven Democratic senators have expressed concerns to the Department of Justice regarding recent changes to its Civil Rights Division under President Trump's administration. They question personnel shifts, notably the reassignment of senior career officials, suggesting these moves could fundamentally alter the division’s mission. The DOJ has not yet responded publicly to the letter. ([reuters.com](https://www.reuters.com/world/us/democratic-senators-question-us-justice-department-civil-rights-changes-2025-04-28/?utm_source=openai))\n",
            "\n",
            "**Environmental Policy and International Disputes**\n",
            "\n",
            "- **Deep-Sea Mining Controversy**: A major geopolitical and legal dispute is unfolding over deep-sea mining. The International Seabed Authority (ISA) has opposed U.S. efforts to push deep-sea mineral exploration without international consensus. The White House recently issued an executive order supporting such activities under domestic laws, potentially bypassing ISA's oversight. This raises significant international concerns, especially regarding environmental impact and resource control. ([axios.com](https://www.axios.com/newsletters/axios-generate-95ae2bc0-2379-11f0-abc3-57c7db0ebbd2?utm_source=openai))\n",
            "\n",
            "**Economic Outlook Amid Trade Policies**\n",
            "\n",
            "- **Economic Concerns**: Michael Strain of the American Enterprise Institute has expressed increasing concern about the U.S. economy amid President Trump's trade policies. He highlights potential inflation, reduced consumer spending, and capital flight due to the 'liberation day' tariffs. Strain acknowledges some merit in secondary policy goals but criticizes efforts to reduce trade deficits and revive manufacturing jobs as economically misguided and politically motivated. ([ft.com](https://www.ft.com/content/b710b581-75d8-4729-b0e0-19d02a75d86a?utm_source=openai))\n",
            "\n",
            "\n",
            "## Key Updates in U.S. Politics:\n",
            "- [🏆 Scoop: Thune's victory lap](https://www.axios.com/newsletters/axios-hill-leaders-e7067bb0-242f-11f0-a543-0f906d9b0f91?utm_source=openai)\n",
            "- [Musk lays groundwork for big donor role in midterm elections as time with DOGE ends](https://www.reuters.com/business/autos-transportation/musk-lays-groundwork-big-donor-role-midterm-elections-time-with-doge-ends-2025-04-28/?utm_source=openai)\n",
            "- [Democratic senators question US Justice Department on civil rights changes](https://www.reuters.com/world/us/democratic-senators-question-us-justice-department-civil-rights-changes-2025-04-28/?utm_source=openai) \n"
          ]
        }
      ]
    },
    {
      "cell_type": "code",
      "source": [
        "mcdonalds_agent = Agent(name=\"McDonalds Assistant\",\n",
        "              instructions=f\"You are a helpful server at McDonalds, respond to questions by using the search tool\",\n",
        "              model=\"gpt-4o\",\n",
        "              tools=[WebSearchTool()]\n",
        "              )\n"
      ],
      "metadata": {
        "id": "NFiZmZCrR9Ea"
      },
      "execution_count": null,
      "outputs": []
    },
    {
      "cell_type": "code",
      "source": [
        "result = await Runner.run(mcdonalds_agent, \"How much is BigMac?\")\n",
        "\n",
        "print(result.final_output)"
      ],
      "metadata": {
        "colab": {
          "base_uri": "https://localhost:8080/"
        },
        "outputId": "086bc03e-3c56-4a5b-ddfc-8f8ff2d2403b",
        "id": "GWl-PYtYR9Ea",
        "collapsed": true
      },
      "execution_count": null,
      "outputs": [
        {
          "output_type": "stream",
          "name": "stdout",
          "text": [
            "As of 2024, the average price of a Big Mac in the United States is approximately $5.29, reflecting a 21% increase from $4.39 in 2019. ([cbsnews.com](https://www.cbsnews.com/news/mcdonalds-menu-price-hikes-fast-food/?utm_source=openai)) However, prices can vary by location due to factors such as local operating costs and economic conditions. For instance, in Hawaii, a Big Mac costs around $6.75, while in Mississippi, it's about $4.75. ([mymcdonaldsmenuprices.com](https://mymcdonaldsmenuprices.com/how-much-does-a-big-mac-cost/?utm_source=openai)) Additionally, some reports have highlighted exceptional cases, such as an $18 Big Mac meal in Connecticut, which McDonald's has stated is not representative of typical pricing. ([cbsnews.com](https://www.cbsnews.com/news/mcdonalds-menu-price-hikes-fast-food/?utm_source=openai))\n",
            "\n",
            "\n",
            "## McDonald's Addresses Big Mac Pricing Concerns:\n",
            "- [McDonald's says $18 Big Mac meal was an 'exception' and news reports overstated its price increases](https://apnews.com/article/c9c4abef25369f6b87b2781f5658bc0e?utm_source=openai)\n",
            "- [McDonald's top US exec denounces viral reports of runaway prices](https://www.reuters.com/business/retail-consumer/mcdonalds-top-us-exec-denounces-viral-reports-runaway-prices-2024-05-29/?utm_source=openai) \n"
          ]
        }
      ]
    },
    {
      "cell_type": "code",
      "source": [
        "result"
      ],
      "metadata": {
        "colab": {
          "base_uri": "https://localhost:8080/"
        },
        "collapsed": true,
        "id": "BE3aucANfwot",
        "outputId": "967f279a-e8e0-43a6-ba85-8b91939a392a"
      },
      "execution_count": null,
      "outputs": [
        {
          "output_type": "execute_result",
          "data": {
            "text/plain": [
              "RunResult(input='How much is BigMac?', new_items=[ToolCallItem(agent=Agent(name='McDonalds Assistant', instructions='You are a helpful server at McDonalds, respond to questions by using the search tool', handoff_description=None, handoffs=[], model='gpt-4o', model_settings=ModelSettings(temperature=None, top_p=None, frequency_penalty=None, presence_penalty=None, tool_choice=None, parallel_tool_calls=None, truncation=None, max_tokens=None, reasoning=None, metadata=None, store=None, include_usage=None, extra_query=None, extra_body=None, extra_headers=None), tools=[WebSearchTool(user_location=None, search_context_size='medium')], mcp_servers=[], mcp_config={}, input_guardrails=[], output_guardrails=[], output_type=None, hooks=None, tool_use_behavior='run_llm_again', reset_tool_choice=True), raw_item=ResponseFunctionWebSearch(id='ws_6810782cee5481918975ecf8a5b8c8fd030e1b288d80267b', status='completed', type='web_search_call'), type='tool_call_item'), MessageOutputItem(agent=Agent(name='McDonalds Assistant', instructions='You are a helpful server at McDonalds, respond to questions by using the search tool', handoff_description=None, handoffs=[], model='gpt-4o', model_settings=ModelSettings(temperature=None, top_p=None, frequency_penalty=None, presence_penalty=None, tool_choice=None, parallel_tool_calls=None, truncation=None, max_tokens=None, reasoning=None, metadata=None, store=None, include_usage=None, extra_query=None, extra_body=None, extra_headers=None), tools=[WebSearchTool(user_location=None, search_context_size='medium')], mcp_servers=[], mcp_config={}, input_guardrails=[], output_guardrails=[], output_type=None, hooks=None, tool_use_behavior='run_llm_again', reset_tool_choice=True), raw_item=ResponseOutputMessage(id='msg_6810782eb94881918f4b151d5940921f030e1b288d80267b', content=[ResponseOutputText(annotations=[AnnotationURLCitation(end_index=235, start_index=134, title='Top McDonald\\'s exec says $18 Big Mac meal is \"exception,\" not the rule - CBS News', type='url_citation', url='https://www.cbsnews.com/news/mcdonalds-menu-price-hikes-fast-food/?utm_source=openai'), AnnotationURLCitation(end_index=550, start_index=438, title='2024 - How much does a Big Mac cost?', type='url_citation', url='https://mymcdonaldsmenuprices.com/how-much-does-a-big-mac-cost/?utm_source=openai'), AnnotationURLCitation(end_index=829, start_index=728, title='Top McDonald\\'s exec says $18 Big Mac meal is \"exception,\" not the rule - CBS News', type='url_citation', url='https://www.cbsnews.com/news/mcdonalds-menu-price-hikes-fast-food/?utm_source=openai'), AnnotationURLCitation(end_index=1064, start_index=884, title=\"McDonald's says $18 Big Mac meal was an 'exception' and news reports overstated its price increases\", type='url_citation', url='https://apnews.com/article/c9c4abef25369f6b87b2781f5658bc0e?utm_source=openai'), AnnotationURLCitation(end_index=1274, start_index=1067, title=\"McDonald's top US exec denounces viral reports of runaway prices\", type='url_citation', url='https://www.reuters.com/business/retail-consumer/mcdonalds-top-us-exec-denounces-viral-reports-runaway-prices-2024-05-29/?utm_source=openai')], text=\"As of 2024, the average price of a Big Mac in the United States is approximately $5.29, reflecting a 21% increase from $4.39 in 2019. ([cbsnews.com](https://www.cbsnews.com/news/mcdonalds-menu-price-hikes-fast-food/?utm_source=openai)) However, prices can vary by location due to factors such as local operating costs and economic conditions. For instance, in Hawaii, a Big Mac costs around $6.75, while in Mississippi, it's about $4.75. ([mymcdonaldsmenuprices.com](https://mymcdonaldsmenuprices.com/how-much-does-a-big-mac-cost/?utm_source=openai)) Additionally, some reports have highlighted exceptional cases, such as an $18 Big Mac meal in Connecticut, which McDonald's has stated is not representative of typical pricing. ([cbsnews.com](https://www.cbsnews.com/news/mcdonalds-menu-price-hikes-fast-food/?utm_source=openai))\\n\\n\\n## McDonald's Addresses Big Mac Pricing Concerns:\\n- [McDonald's says $18 Big Mac meal was an 'exception' and news reports overstated its price increases](https://apnews.com/article/c9c4abef25369f6b87b2781f5658bc0e?utm_source=openai)\\n- [McDonald's top US exec denounces viral reports of runaway prices](https://www.reuters.com/business/retail-consumer/mcdonalds-top-us-exec-denounces-viral-reports-runaway-prices-2024-05-29/?utm_source=openai) \", type='output_text')], role='assistant', status='completed', type='message'), type='message_output_item')], raw_responses=[ModelResponse(output=[ResponseFunctionWebSearch(id='ws_6810782cee5481918975ecf8a5b8c8fd030e1b288d80267b', status='completed', type='web_search_call'), ResponseOutputMessage(id='msg_6810782eb94881918f4b151d5940921f030e1b288d80267b', content=[ResponseOutputText(annotations=[AnnotationURLCitation(end_index=235, start_index=134, title='Top McDonald\\'s exec says $18 Big Mac meal is \"exception,\" not the rule - CBS News', type='url_citation', url='https://www.cbsnews.com/news/mcdonalds-menu-price-hikes-fast-food/?utm_source=openai'), AnnotationURLCitation(end_index=550, start_index=438, title='2024 - How much does a Big Mac cost?', type='url_citation', url='https://mymcdonaldsmenuprices.com/how-much-does-a-big-mac-cost/?utm_source=openai'), AnnotationURLCitation(end_index=829, start_index=728, title='Top McDonald\\'s exec says $18 Big Mac meal is \"exception,\" not the rule - CBS News', type='url_citation', url='https://www.cbsnews.com/news/mcdonalds-menu-price-hikes-fast-food/?utm_source=openai'), AnnotationURLCitation(end_index=1064, start_index=884, title=\"McDonald's says $18 Big Mac meal was an 'exception' and news reports overstated its price increases\", type='url_citation', url='https://apnews.com/article/c9c4abef25369f6b87b2781f5658bc0e?utm_source=openai'), AnnotationURLCitation(end_index=1274, start_index=1067, title=\"McDonald's top US exec denounces viral reports of runaway prices\", type='url_citation', url='https://www.reuters.com/business/retail-consumer/mcdonalds-top-us-exec-denounces-viral-reports-runaway-prices-2024-05-29/?utm_source=openai')], text=\"As of 2024, the average price of a Big Mac in the United States is approximately $5.29, reflecting a 21% increase from $4.39 in 2019. ([cbsnews.com](https://www.cbsnews.com/news/mcdonalds-menu-price-hikes-fast-food/?utm_source=openai)) However, prices can vary by location due to factors such as local operating costs and economic conditions. For instance, in Hawaii, a Big Mac costs around $6.75, while in Mississippi, it's about $4.75. ([mymcdonaldsmenuprices.com](https://mymcdonaldsmenuprices.com/how-much-does-a-big-mac-cost/?utm_source=openai)) Additionally, some reports have highlighted exceptional cases, such as an $18 Big Mac meal in Connecticut, which McDonald's has stated is not representative of typical pricing. ([cbsnews.com](https://www.cbsnews.com/news/mcdonalds-menu-price-hikes-fast-food/?utm_source=openai))\\n\\n\\n## McDonald's Addresses Big Mac Pricing Concerns:\\n- [McDonald's says $18 Big Mac meal was an 'exception' and news reports overstated its price increases](https://apnews.com/article/c9c4abef25369f6b87b2781f5658bc0e?utm_source=openai)\\n- [McDonald's top US exec denounces viral reports of runaway prices](https://www.reuters.com/business/retail-consumer/mcdonalds-top-us-exec-denounces-viral-reports-runaway-prices-2024-05-29/?utm_source=openai) \", type='output_text')], role='assistant', status='completed', type='message')], usage=Usage(requests=1, input_tokens=328, output_tokens=369, total_tokens=697), response_id='resp_68107828e8a88191aef04520cf4754f9030e1b288d80267b')], final_output=\"As of 2024, the average price of a Big Mac in the United States is approximately $5.29, reflecting a 21% increase from $4.39 in 2019. ([cbsnews.com](https://www.cbsnews.com/news/mcdonalds-menu-price-hikes-fast-food/?utm_source=openai)) However, prices can vary by location due to factors such as local operating costs and economic conditions. For instance, in Hawaii, a Big Mac costs around $6.75, while in Mississippi, it's about $4.75. ([mymcdonaldsmenuprices.com](https://mymcdonaldsmenuprices.com/how-much-does-a-big-mac-cost/?utm_source=openai)) Additionally, some reports have highlighted exceptional cases, such as an $18 Big Mac meal in Connecticut, which McDonald's has stated is not representative of typical pricing. ([cbsnews.com](https://www.cbsnews.com/news/mcdonalds-menu-price-hikes-fast-food/?utm_source=openai))\\n\\n\\n## McDonald's Addresses Big Mac Pricing Concerns:\\n- [McDonald's says $18 Big Mac meal was an 'exception' and news reports overstated its price increases](https://apnews.com/article/c9c4abef25369f6b87b2781f5658bc0e?utm_source=openai)\\n- [McDonald's top US exec denounces viral reports of runaway prices](https://www.reuters.com/business/retail-consumer/mcdonalds-top-us-exec-denounces-viral-reports-runaway-prices-2024-05-29/?utm_source=openai) \", input_guardrail_results=[], output_guardrail_results=[], _last_agent=Agent(name='McDonalds Assistant', instructions='You are a helpful server at McDonalds, respond to questions by using the search tool', handoff_description=None, handoffs=[], model='gpt-4o', model_settings=ModelSettings(temperature=None, top_p=None, frequency_penalty=None, presence_penalty=None, tool_choice=None, parallel_tool_calls=None, truncation=None, max_tokens=None, reasoning=None, metadata=None, store=None, include_usage=None, extra_query=None, extra_body=None, extra_headers=None), tools=[WebSearchTool(user_location=None, search_context_size='medium')], mcp_servers=[], mcp_config={}, input_guardrails=[], output_guardrails=[], output_type=None, hooks=None, tool_use_behavior='run_llm_again', reset_tool_choice=True))"
            ]
          },
          "metadata": {},
          "execution_count": 62
        }
      ]
    },
    {
      "cell_type": "code",
      "source": [
        "result.new_items[1].raw_item.content[0].annotations"
      ],
      "metadata": {
        "colab": {
          "base_uri": "https://localhost:8080/"
        },
        "id": "rqgM6PXmR14a",
        "outputId": "75b95306-a95d-4ece-c3f8-cb75f72a8572",
        "collapsed": true
      },
      "execution_count": null,
      "outputs": [
        {
          "output_type": "execute_result",
          "data": {
            "text/plain": [
              "[AnnotationURLCitation(end_index=235, start_index=134, title='Top McDonald\\'s exec says $18 Big Mac meal is \"exception,\" not the rule - CBS News', type='url_citation', url='https://www.cbsnews.com/news/mcdonalds-menu-price-hikes-fast-food/?utm_source=openai'),\n",
              " AnnotationURLCitation(end_index=550, start_index=438, title='2024 - How much does a Big Mac cost?', type='url_citation', url='https://mymcdonaldsmenuprices.com/how-much-does-a-big-mac-cost/?utm_source=openai'),\n",
              " AnnotationURLCitation(end_index=829, start_index=728, title='Top McDonald\\'s exec says $18 Big Mac meal is \"exception,\" not the rule - CBS News', type='url_citation', url='https://www.cbsnews.com/news/mcdonalds-menu-price-hikes-fast-food/?utm_source=openai'),\n",
              " AnnotationURLCitation(end_index=1064, start_index=884, title=\"McDonald's says $18 Big Mac meal was an 'exception' and news reports overstated its price increases\", type='url_citation', url='https://apnews.com/article/c9c4abef25369f6b87b2781f5658bc0e?utm_source=openai'),\n",
              " AnnotationURLCitation(end_index=1274, start_index=1067, title=\"McDonald's top US exec denounces viral reports of runaway prices\", type='url_citation', url='https://www.reuters.com/business/retail-consumer/mcdonalds-top-us-exec-denounces-viral-reports-runaway-prices-2024-05-29/?utm_source=openai')]"
            ]
          },
          "metadata": {},
          "execution_count": 63
        }
      ]
    },
    {
      "cell_type": "markdown",
      "source": [
        "\n",
        "# Custom function"
      ],
      "metadata": {
        "id": "3ARvjkBd6nEw"
      }
    },
    {
      "cell_type": "code",
      "source": [
        "from agents import Agent, function_tool\n",
        "\n",
        "\n",
        "@function_tool\n",
        "def get_weather(city: str) -> str:\n",
        "    \"\"\"Fetch the weather for a given city.\n",
        "\n",
        "    Args:\n",
        "        city: The city to fetch the weather for.\n",
        "    \"\"\"\n",
        "    print(f\"Getting weather for {city}\")\n",
        "    return \"sunny\"\n",
        "\n",
        "@function_tool\n",
        "def get_temperature(city: str) -> str:\n",
        "    \"\"\"\n",
        "    Get the temperature for a given city.\n",
        "    \"\"\"\n",
        "    print(f\"Getting temperature for {city}\")\n",
        "    return \"70 degrees\"\n",
        "\n",
        "agent = Agent(\n",
        "    name=\"Weather Agent\",\n",
        "    instructions=\"You are the local weather agent. You are given a city and you need to tell the weather or temperature, whatever was asked. It can be both. For any unrelated queries, say I cant help with that.\",\n",
        "    tools=[get_weather, get_temperature]\n",
        ")\n",
        "\n",
        "result = await Runner.run(agent, \" Weather in Dallas\")\n",
        "result.final_output\n"
      ],
      "metadata": {
        "colab": {
          "base_uri": "https://localhost:8080/",
          "height": 54
        },
        "id": "H4gjoVqPY_CB",
        "outputId": "c3ae0e19-e1f7-4636-a21c-7e6f0f435f72",
        "collapsed": true
      },
      "execution_count": null,
      "outputs": [
        {
          "output_type": "stream",
          "name": "stdout",
          "text": [
            "Getting weather for Dallas\n"
          ]
        },
        {
          "output_type": "execute_result",
          "data": {
            "text/plain": [
              "'The weather in Dallas is sunny.'"
            ],
            "application/vnd.google.colaboratory.intrinsic+json": {
              "type": "string"
            }
          },
          "metadata": {},
          "execution_count": 64
        }
      ]
    },
    {
      "cell_type": "code",
      "source": [
        "result = await Runner.run(agent, \" Temp in New Jersey\")\n",
        "result.final_output"
      ],
      "metadata": {
        "colab": {
          "base_uri": "https://localhost:8080/",
          "height": 54
        },
        "collapsed": true,
        "id": "Fn3bQpO7d4je",
        "outputId": "a7d4de6b-1395-4505-c2a8-4aa6ed3cc88a"
      },
      "execution_count": null,
      "outputs": [
        {
          "output_type": "stream",
          "name": "stdout",
          "text": [
            "Getting temperature for New Jersey\n"
          ]
        },
        {
          "output_type": "execute_result",
          "data": {
            "text/plain": [
              "'The temperature in New Jersey is 70 degrees.'"
            ],
            "application/vnd.google.colaboratory.intrinsic+json": {
              "type": "string"
            }
          },
          "metadata": {},
          "execution_count": 65
        }
      ]
    },
    {
      "cell_type": "code",
      "source": [
        "result = await Runner.run(agent, \"Atlanta\")\n",
        "result.final_output"
      ],
      "metadata": {
        "colab": {
          "base_uri": "https://localhost:8080/",
          "height": 36
        },
        "collapsed": true,
        "id": "nkuHQNnKd-Ke",
        "outputId": "ecefc0eb-7ea7-4501-f65e-7b4a6df4528a"
      },
      "execution_count": null,
      "outputs": [
        {
          "output_type": "execute_result",
          "data": {
            "text/plain": [
              "\"I can't help with that.\""
            ],
            "application/vnd.google.colaboratory.intrinsic+json": {
              "type": "string"
            }
          },
          "metadata": {},
          "execution_count": 66
        }
      ]
    },
    {
      "cell_type": "markdown",
      "source": [
        "# Agents as Tools"
      ],
      "metadata": {
        "id": "zlG1ytCIdiie"
      }
    },
    {
      "cell_type": "code",
      "source": [
        "nike_agent = Agent(\n",
        "    name=\"Nike agent\",\n",
        "    instructions=\"You have information about Nike products\",\n",
        ")\n",
        "\n",
        "ikea_agent = Agent(\n",
        "    name=\"ikea agent\",\n",
        "    instructions=\"You have information about IKEA products\",\n",
        ")\n",
        "\n",
        "orchestrator_agent = Agent(\n",
        "    name=\"orchestrator_agent\",\n",
        "    instructions=(\n",
        "        \"You are an allottment agent. You use the tools given to you to assign products to Nike or Ikea\"\n",
        "        \"If they dont belong to either, say 'This doesn't belong to any of the brands'.\"\n",
        "    ),\n",
        "    tools=[\n",
        "        nike_agent.as_tool(\n",
        "            tool_name=\"assign_to_nike\",\n",
        "            tool_description=\"Assign Products to Nike\",\n",
        "        ),\n",
        "        ikea_agent.as_tool(\n",
        "            tool_name=\"assign_to_ikea\",\n",
        "            tool_description=\"Assign Products to Ikea\",\n",
        "        ),\n",
        "    ],\n",
        ")\n",
        "\n",
        "result = await Runner.run(orchestrator_agent, input=\"Lipstick\")\n",
        "print(result.final_output)"
      ],
      "metadata": {
        "colab": {
          "base_uri": "https://localhost:8080/"
        },
        "collapsed": true,
        "id": "Obcfb4olMUer",
        "outputId": "e37e4091-3748-480c-a30d-87483848b9fd"
      },
      "execution_count": null,
      "outputs": [
        {
          "output_type": "stream",
          "name": "stdout",
          "text": [
            "This doesn't belong to any of the brands.\n"
          ]
        }
      ]
    },
    {
      "cell_type": "markdown",
      "source": [
        "#Handoffs"
      ],
      "metadata": {
        "id": "QZHRXKdAdgFx"
      }
    },
    {
      "cell_type": "code",
      "source": [
        "from agents import Agent, Runner, handoff, RunContextWrapper\n",
        "\n",
        "history_tutor_agent = Agent(\n",
        "    name=\"History Tutor\",\n",
        "    handoff_description=\"Specialist agent for historical questions\",\n",
        "    instructions=\"You provide assistance with historical queries. Explain important events and context clearly.\",\n",
        ")\n",
        "\n",
        "math_tutor_agent = Agent(\n",
        "    name=\"Math Tutor\",\n",
        "    handoff_description=\"Specialist agent for math questions\",\n",
        "    instructions=\"You provide assistance with math queries. Explain your reasoning at each step and include examples\"\n",
        ")\n",
        "\n",
        "def on_math_handoff(ctx: RunContextWrapper[None]):\n",
        "    print(\"Handing off to math tutor agent\")\n",
        "\n",
        "def on_history_handoff(ctx: RunContextWrapper[None]):\n",
        "    print(\"Handing off to history tutor agent\")\n",
        "\n",
        "# This agent has the capability to handoff to either the history or math tutor agent\n",
        "triage_agent = Agent(\n",
        "    name=\"Triage Agent\",\n",
        "    instructions=\"You determine which agent to use based on the user's homework question.\" +\n",
        "    \"If neither agent is relevant, provide a general response.\",\n",
        "    handoffs=[handoff(history_tutor_agent, on_handoff=on_history_handoff),\n",
        "              handoff(math_tutor_agent, on_handoff=on_math_handoff)]\n",
        ")\n",
        "result = await Runner.run(triage_agent, \"How do I add 2 and 2?\")\n",
        "result.final_output\n"
      ],
      "metadata": {
        "colab": {
          "base_uri": "https://localhost:8080/",
          "height": 108
        },
        "id": "Ye3PzqayZLSV",
        "outputId": "c7b583b5-8bdb-4adf-cd60-d3c3779538f9",
        "collapsed": true
      },
      "execution_count": null,
      "outputs": [
        {
          "output_type": "stream",
          "name": "stdout",
          "text": [
            "Handing off to math tutor agent\n"
          ]
        },
        {
          "output_type": "execute_result",
          "data": {
            "text/plain": [
              "\"Adding two numbers is a basic arithmetic operation. Here's how you do it:\\n\\n1. **Identify the Numbers:** You're adding 2 and 2.\\n\\n2. **Understand the Operation:** Addition combines quantities. In this case, you are combining two groups of 2.\\n\\n3. **Perform the Addition:**\\n   - Start with the first 2.\\n   - Add the second 2.\\n\\n   \\\\[\\n   2 + 2 = 4\\n   \\\\]\\n\\n4. **Visualize (Optional):** If you think of objects, like apples:\\n   - You have 2 apples.\\n   - You add 2 more apples.\\n   - You now have 4 apples in total.\\n\\nThat's it! The sum of 2 and 2 equals 4.\""
            ],
            "application/vnd.google.colaboratory.intrinsic+json": {
              "type": "string"
            }
          },
          "metadata": {},
          "execution_count": 70
        }
      ]
    },
    {
      "cell_type": "code",
      "source": [
        "result = await Runner.run(triage_agent, \"How did WW2 start?\")\n",
        "result.final_output"
      ],
      "metadata": {
        "id": "a7RjACuNbK8Z",
        "colab": {
          "base_uri": "https://localhost:8080/",
          "height": 144
        },
        "outputId": "794432d7-1426-448b-fde9-611992fccf57"
      },
      "execution_count": null,
      "outputs": [
        {
          "output_type": "stream",
          "name": "stdout",
          "text": [
            "Handing off to history tutor agent\n"
          ]
        },
        {
          "output_type": "execute_result",
          "data": {
            "text/plain": [
              "'World War II began on September 1, 1939, when Germany, led by Adolf Hitler, invaded Poland. This aggressive expansion came after a period of increasing tension and militarization in Europe.\\n\\nHere’s a breakdown of the key events and context leading up to the war:\\n\\n1. **Treaty of Versailles (1919):**\\n   - The treaty formally ended World War I but imposed heavy reparations and territorial losses on Germany. This created a sense of resentment and economic hardship.\\n\\n2. **Rise of Totalitarian Regimes:**\\n   - In the 1930s, several aggressive totalitarian regimes emerged. Adolf Hitler became Chancellor of Germany in 1933, and his Nazi Party quickly established a dictatorship.\\n   - Benito Mussolini had already established a fascist regime in Italy, while Japan was expanding its influence in Asia.\\n\\n3. **Expansionist Policies:**\\n   - Hitler pursued aggressive expansion to create a greater German empire. He defied the Treaty of Versailles by rebuilding the military and annexing territories such as Austria (Anschluss) in 1938.\\n\\n4. **Munich Agreement (1938):**\\n   - Britain and France, following a policy of appeasement, allowed Germany to annex the Sudetenland, a region of Czechoslovakia, in hopes of avoiding war. This emboldened Hitler further.\\n\\n5. **Nazi-Soviet Pact (1939):**\\n   - Germany and the Soviet Union signed a non-aggression pact in August 1939, which secretly outlined the division of Poland between them. This cleared the way for Germany’s invasion of Poland.\\n\\n6. **Invasion of Poland:**\\n   - On September 1, 1939, Germany invaded Poland using blitzkrieg tactics that involved rapid, coordinated strikes using planes, tanks, and infantry.\\n   - In response, Britain and France declared war on Germany on September 3, 1939, marking the official start of World War II.\\n\\nThese events set the stage for a global conflict involving numerous nations across Europe, Asia, and beyond.'"
            ],
            "application/vnd.google.colaboratory.intrinsic+json": {
              "type": "string"
            }
          },
          "metadata": {},
          "execution_count": 71
        }
      ]
    },
    {
      "cell_type": "code",
      "source": [
        "result = await Runner.run(triage_agent, \"What is love?\")\n",
        "result.final_output"
      ],
      "metadata": {
        "colab": {
          "base_uri": "https://localhost:8080/",
          "height": 90
        },
        "id": "M8f6EtkqbnwT",
        "outputId": "a00c8cfa-160d-43d9-814f-2b4bc2c84ef4",
        "collapsed": true
      },
      "execution_count": null,
      "outputs": [
        {
          "output_type": "execute_result",
          "data": {
            "text/plain": [
              "'Love is a complex and multifaceted emotion that can encompass a range of feelings, states, and attitudes. It often involves care, affection, and attachment towards another person, but it can also include passion, desire, commitment, and respect. Love can be felt for friends, family, romantic partners, or even activities, places, and ideals. Throughout history, philosophers, poets, and scientists have explored its meanings and implications, making it a subject of enduring curiosity and significance.'"
            ],
            "application/vnd.google.colaboratory.intrinsic+json": {
              "type": "string"
            }
          },
          "metadata": {},
          "execution_count": 72
        }
      ]
    },
    {
      "cell_type": "markdown",
      "source": [
        "#Agent Patterns\n"
      ],
      "metadata": {
        "id": "yAkBmGFfzObe"
      }
    },
    {
      "cell_type": "code",
      "source": [
        "from __future__ import annotations\n",
        "\n",
        "import asyncio\n",
        "from dataclasses import dataclass\n",
        "from typing import Literal\n",
        "\n",
        "from agents import Agent, ItemHelpers, Runner, TResponseInputItem,trace\n",
        "\n",
        "\"\"\"\n",
        "This example shows the LLM as a judge pattern. The first agent generates an outline for a story.\n",
        "The second agent judges the outline and provides feedback. We loop until the judge is satisfied\n",
        "with the outline.\n",
        "\"\"\"\n",
        "\n",
        "story_outline_generator = Agent(\n",
        "    name=\"story_outline_generator\",\n",
        "    instructions=(\n",
        "        \"You generate a very short story outline based on the user's input.\"\n",
        "        \"If there is any feedback provided, use it to improve the outline.\"\n",
        "    ),\n",
        "    model=\"gpt-4o\"\n",
        ")\n",
        "\n",
        "\n",
        "@dataclass\n",
        "class EvaluationFeedback:\n",
        "    feedback: str\n",
        "    score: Literal[\"pass\", \"needs_improvement\", \"fail\"]\n",
        "\n",
        "\n",
        "evaluator = Agent[None](\n",
        "    name=\"evaluator\",\n",
        "    instructions=(\n",
        "        \"You evaluate a story outline and decide if it's good enough.\"\n",
        "        \"If it's not good enough, you provide feedback on what needs to be improved.\"\n",
        "        \"Never give it a pass on the first try. Pass or fail it within 3 tries\"\n",
        "    ),\n",
        "    model=\"gpt-4o\",\n",
        "    output_type=EvaluationFeedback,\n",
        ")\n",
        "\n",
        "\n",
        "async def main() -> None:\n",
        "    msg = input(\"What kind of story would you like to hear? \")\n",
        "    input_items: list[TResponseInputItem] = [{\"content\": msg, \"role\": \"user\"}]\n",
        "\n",
        "    latest_outline: str | None = None\n",
        "\n",
        "    # We'll run the entire workflow in a single trace\n",
        "    with trace(\"LLM as a judge\"):\n",
        "        while True:\n",
        "            story_outline_result = await Runner.run(\n",
        "                story_outline_generator,\n",
        "                input_items,\n",
        "            )\n",
        "\n",
        "            input_items = story_outline_result.to_input_list()\n",
        "            latest_outline = ItemHelpers.text_message_outputs(story_outline_result.new_items)\n",
        "            print(\"Story outline generated\")\n",
        "            print(latest_outline)\n",
        "            evaluator_result = await Runner.run(evaluator, input_items)\n",
        "            result: EvaluationFeedback = evaluator_result.final_output\n",
        "\n",
        "            print(f\"Evaluator score: {result.score}\")\n",
        "\n",
        "            if result.score == \"pass\":\n",
        "                print(\"Story outline is good enough, exiting.\")\n",
        "                break\n",
        "\n",
        "            print(\"Re-running with feedback\")\n",
        "\n",
        "            input_items.append({\"content\": f\"Feedback: {result.feedback}\", \"role\": \"user\"})\n",
        "\n",
        "    print(f\"Final story outline: {latest_outline}\")\n",
        "\n",
        "\n",
        "if __name__ == \"__main__\":\n",
        "    asyncio.run(main())"
      ],
      "metadata": {
        "colab": {
          "base_uri": "https://localhost:8080/"
        },
        "id": "ouKIJDAZtHtr",
        "outputId": "9459a652-4c65-4b3b-e6dc-9ad9eae64718"
      },
      "execution_count": null,
      "outputs": [
        {
          "output_type": "stream",
          "name": "stdout",
          "text": [
            "What kind of story would you like to hear? Teaching Assistant taking a data science course\n",
            "Story outline generated\n",
            "**Title: The Unlikely Learner**\n",
            "\n",
            "**Outline:**\n",
            "\n",
            "**Setting:**  \n",
            "A modern university campus bustling with students and technology.\n",
            "\n",
            "**Main Characters:**  \n",
            "- **Alex Rivera:** A passionate Teaching Assistant (TA) with a background in literature.  \n",
            "- **Dr. Emily Chen:** Renowned data science professor known for her innovative teaching methods.  \n",
            "- **Sam Patel:** A curious computer science major and Alex’s study partner.\n",
            "\n",
            "**Plot Summary:**\n",
            "\n",
            "1. **Introduction:**  \n",
            "   Alex Rivera, a literature TA, unexpectedly finds themselves enrolled in a cutting-edge data science course to keep up with academic requirements. Despite initial doubts, Alex is determined to bridge the gap between humanities and technology.\n",
            "\n",
            "2. **Rising Action:**  \n",
            "   Struggling with complex algorithms and data sets, Alex partners with Sam Patel. Together, they explore new tools and techniques, blending Alex’s analytical skills from literature with Sam’s technical prowess. Dr. Emily Chen notices Alex's unique approach and becomes a mentor figure.\n",
            "\n",
            "3. **Climax:**  \n",
            "   During a major project, Alex uncovers a new way to visualize data, inspired by narrative techniques. This breakthrough garners attention from peers and faculty, challenging the conventional approach to data interpretation.\n",
            "\n",
            "4. **Falling Action:**  \n",
            "   Encouraged by the success, Alex gains confidence and starts integrating cross-disciplinary methods into the course, while sharing insights with other students. The progress inspires others to view data science from fresh perspectives.\n",
            "\n",
            "5. **Resolution:**  \n",
            "   By the end of the course, Alex becomes an advocate for interdisciplinary learning, helping shape a new curriculum that incorporates storytelling in data analysis. The journey illustrates the power of diverse thinking in innovation.\n",
            "\n",
            "**Themes:**  \n",
            "- Bridging disciplines and the unexpected power of diverse perspectives.  \n",
            "- The transformative impact of mentorship and collaboration.\n",
            "\n",
            "**Feedback:** If you have any suggestions or specific elements to include, feel free to share!\n",
            "Evaluator score: needs_improvement\n",
            "Re-running with feedback\n",
            "Story outline generated\n",
            "**Title: The Unlikely Learner**\n",
            "\n",
            "**Outline:**\n",
            "\n",
            "**Setting:**  \n",
            "A modern university campus bustling with students and technology.\n",
            "\n",
            "**Main Characters:**  \n",
            "- **Alex Rivera:** A passionate Teaching Assistant (TA) with a background in literature, eager to expand their skill set beyond traditional academia.\n",
            "- **Dr. Emily Chen:** Renowned data science professor whose innovative teaching fosters interdisciplinary thinking.\n",
            "- **Sam Patel:** A curious computer science major with a strong desire to explore unconventional approaches to learning.\n",
            "\n",
            "**Plot Summary:**\n",
            "\n",
            "1. **Introduction:**  \n",
            "   Alex Rivera, a literature TA, is unexpectedly enrolled in a data science course to meet academic requirements. Initially overwhelmed, Alex is driven by a desire to blend storytelling with analytical processes.\n",
            "\n",
            "2. **Rising Action:**  \n",
            "   Facing challenges with algorithms and data sets, Alex partners with Sam Patel, who is intrigued by narrative techniques. Sam, motivated by the potential of creative problem-solving, sees Alex as a unique partner. Together, they experiment with cross-disciplinary methods to tackle course projects.\n",
            "\n",
            "3. **Conflict:**  \n",
            "   Alex encounters resistance from peers who doubt the value of a literary approach in data science. An initial project using narrative techniques fails, causing Alex to question their approach. However, through Dr. Emily Chen’s mentorship, Alex learns to refine their ideas. Dr. Chen offers insights into integrating storytelling with data visualization, nurturing Alex’s confidence in innovation.\n",
            "\n",
            "4. **Climax:**  \n",
            "   With newfound determination, Alex discovers a groundbreaking way to visualize data through narrative arcs, which captures the imagination of the department. This breakthrough emphasizes the importance of diverse perspectives in data interpretation.\n",
            "\n",
            "5. **Falling Action:**  \n",
            "   Inspired by the success, Alex and Sam present their work, promoting a dialogue on the value of interdisciplinary learning. Alex begins to integrate these methods into other courses, transforming the approach to data science.\n",
            "\n",
            "6. **Resolution:**  \n",
            "   By course end, Alex becomes an advocate for combining literature and data science, culminating in the development of a new curriculum module championed by Dr. Chen. This journey demonstrates the transformative power of mentorship and collaboration.\n",
            "\n",
            "**Themes:**  \n",
            "- The strength of interdisciplinary approaches and diverse perspectives in innovation.  \n",
            "- The importance of mentorship and overcoming resistance in academic growth.\n",
            "\n",
            "**Visual Elements:**  \n",
            "- Innovative visualization techniques, such as using narrative arcs to depict data trends, illustrating the merging of storytelling with analytics.\n",
            "Evaluator score: needs_improvement\n",
            "Re-running with feedback\n",
            "Story outline generated\n",
            "**Title: The Unlikely Learner**\n",
            "\n",
            "**Outline:**\n",
            "\n",
            "**Setting:**  \n",
            "A modern university campus bustling with students and technology.\n",
            "\n",
            "**Main Characters:**  \n",
            "- **Alex Rivera:** A passionate Teaching Assistant (TA) with a background in literature, determined to merge storytelling with data analysis.\n",
            "- **Dr. Emily Chen:** A data science professor with a history of bridging disciplines, having previously worked on projects that combined art and technology.\n",
            "- **Sam Patel:** A computer science major, eager to explore unconventional learning and inspired by Alex’s unique perspective.\n",
            "\n",
            "**Plot Summary:**\n",
            "\n",
            "1. **Introduction:**  \n",
            "   Alex Rivera, a literature TA, joins a data science course. Initially overwhelmed, Alex is motivated by a vision to blend humanities with technology.\n",
            "\n",
            "2. **Rising Action:**  \n",
            "   Teaming up with Sam Patel, who is drawn to innovative learning, Alex experiments with narrative-driven data analysis. Dr. Chen shares her own past projects, where she integrated visual arts to solve complex data problems, positioning her as a guiding mentor.\n",
            "\n",
            "3. **Conflict:**  \n",
            "   Alex faces skepticism from traditionalist faculty and institutional constraints resistant to nonconventional methods. A failed attempt at a data project challenges Alex’s confidence. Dr. Chen encourages perseverance, sharing strategies on navigating academic resistance while refining their approach.\n",
            "\n",
            "4. **Climax:**  \n",
            "   Inspired, Alex develops a novel project visualizing data trends through a story-based approach, using narrative arcs to depict customer journey analytics. This breakthrough captivates the department and highlights the potential of creative methodologies in data science.\n",
            "\n",
            "5. **Falling Action:**  \n",
            "   The project’s success sparks a campus-wide interest in interdisciplinary learning. Alex and Sam present their work, initiating discussions on the integration of arts in STEM education. \n",
            "\n",
            "6. **Resolution:**  \n",
            "   By the course's end, Alex, with Dr. Chen’s backing, helps launch a new curriculum that encourages storytelling in data analysis. The journey underscores the power of mentorship, diversity in thought, and the courage to challenge norms.\n",
            "\n",
            "**Themes:**  \n",
            "- The transformative potential of interdisciplinary approaches.  \n",
            "- Overcoming institutional resistance with perseverance and innovation. \n",
            "\n",
            "**Innovative Visualization:**  \n",
            "- A project example includes using narrative arcs to map customer experiences, illustrating patterns and insights through a storytelling framework, merging literary techniques with data analytics.\n",
            "Evaluator score: needs_improvement\n",
            "Re-running with feedback\n",
            "Story outline generated\n",
            "**Title: The Unlikely Learner**\n",
            "\n",
            "**Outline:**\n",
            "\n",
            "**Setting:**  \n",
            "A modern university campus bustling with students and technology.\n",
            "\n",
            "**Main Characters:**  \n",
            "- **Alex Rivera:** A literature-focused TA, keen on integrating narrative techniques into data science.\n",
            "- **Dr. Emily Chen:** A data science professor who previously collaborated on interdisciplinary projects linking technology with the arts. Her experience in using visual arts in scientific research makes her an ideal mentor.\n",
            "- **Sam Patel:** A computer science major, drawn to innovative learning methods and inspired by Alex's vision.\n",
            "\n",
            "**Plot Summary:**\n",
            "\n",
            "1. **Introduction:**  \n",
            "   Alex Rivera, a literature TA, joins a data science course despite initial doubts. Intrigued by the idea of merging storytelling with analytical methods, Alex finds a mentor in Dr. Chen, whose own career bridges science and art.\n",
            "\n",
            "2. **Rising Action:**  \n",
            "   Partnering with Sam Patel, Alex explores creative data interpretations. Dr. Chen shares her experiences, offering insights from her work in integrating digital art with data visualization, guiding Alex in developing their unique approach.\n",
            "\n",
            "3. **Conflict:**  \n",
            "   Alex encounters resistance from institutional constraints and traditionalist faculty who question the relevance of narrative methods in data science. An initial project misstep shakes Alex's resolve, but with Dr. Chen’s support, Alex learns strategies to navigate these challenges and adapt their methods.\n",
            "\n",
            "4. **Climax:**  \n",
            "   Persevering, Alex crafts a project visualizing data trends with a storytelling approach, using narrative arcs to analyze customer experience metrics. This innovative visualization captures the department's attention, showcasing the value of diverse methodologies.\n",
            "\n",
            "5. **Falling Action:**  \n",
            "   The project’s success fuels campus-wide interest in interdisciplinary studies. Alex and Sam present at a university symposium, sparking discussions on the role of arts in STEM education.\n",
            "\n",
            "6. **Resolution:**  \n",
            "   By the course's end, Alex, backed by Dr. Chen, contributes to a new curriculum module promoting storytelling in data science. The journey underscores the power of mentorship, the importance of diverse perspectives, and the courage to challenge conventional norms.\n",
            "\n",
            "**Themes:**  \n",
            "- The transformative impact of integrating diverse disciplines.  \n",
            "- Overcoming academic resistance through innovation and perseverance.\n",
            "\n",
            "**Innovative Visualization:**  \n",
            "- A project example involves using narrative arcs to map customer experiences, effectively illustrating patterns and insights through a story-driven lens, blending literary techniques with data analytics.\n",
            "Evaluator score: pass\n",
            "Story outline is good enough, exiting.\n",
            "Final story outline: **Title: The Unlikely Learner**\n",
            "\n",
            "**Outline:**\n",
            "\n",
            "**Setting:**  \n",
            "A modern university campus bustling with students and technology.\n",
            "\n",
            "**Main Characters:**  \n",
            "- **Alex Rivera:** A literature-focused TA, keen on integrating narrative techniques into data science.\n",
            "- **Dr. Emily Chen:** A data science professor who previously collaborated on interdisciplinary projects linking technology with the arts. Her experience in using visual arts in scientific research makes her an ideal mentor.\n",
            "- **Sam Patel:** A computer science major, drawn to innovative learning methods and inspired by Alex's vision.\n",
            "\n",
            "**Plot Summary:**\n",
            "\n",
            "1. **Introduction:**  \n",
            "   Alex Rivera, a literature TA, joins a data science course despite initial doubts. Intrigued by the idea of merging storytelling with analytical methods, Alex finds a mentor in Dr. Chen, whose own career bridges science and art.\n",
            "\n",
            "2. **Rising Action:**  \n",
            "   Partnering with Sam Patel, Alex explores creative data interpretations. Dr. Chen shares her experiences, offering insights from her work in integrating digital art with data visualization, guiding Alex in developing their unique approach.\n",
            "\n",
            "3. **Conflict:**  \n",
            "   Alex encounters resistance from institutional constraints and traditionalist faculty who question the relevance of narrative methods in data science. An initial project misstep shakes Alex's resolve, but with Dr. Chen’s support, Alex learns strategies to navigate these challenges and adapt their methods.\n",
            "\n",
            "4. **Climax:**  \n",
            "   Persevering, Alex crafts a project visualizing data trends with a storytelling approach, using narrative arcs to analyze customer experience metrics. This innovative visualization captures the department's attention, showcasing the value of diverse methodologies.\n",
            "\n",
            "5. **Falling Action:**  \n",
            "   The project’s success fuels campus-wide interest in interdisciplinary studies. Alex and Sam present at a university symposium, sparking discussions on the role of arts in STEM education.\n",
            "\n",
            "6. **Resolution:**  \n",
            "   By the course's end, Alex, backed by Dr. Chen, contributes to a new curriculum module promoting storytelling in data science. The journey underscores the power of mentorship, the importance of diverse perspectives, and the courage to challenge conventional norms.\n",
            "\n",
            "**Themes:**  \n",
            "- The transformative impact of integrating diverse disciplines.  \n",
            "- Overcoming academic resistance through innovation and perseverance.\n",
            "\n",
            "**Innovative Visualization:**  \n",
            "- A project example involves using narrative arcs to map customer experiences, effectively illustrating patterns and insights through a story-driven lens, blending literary techniques with data analytics.\n"
          ]
        }
      ]
    },
    {
      "cell_type": "code",
      "source": [
        "# prompt: async def main() -> None:\n",
        "#     msg = input(\"What kind of story would you like to hear? \")\n",
        "#     input_items: list[TResponseInputItem] = [{\"content\": msg, \"role\": \"user\"}]\n",
        "#     latest_outline: str | None = None\n",
        "#     # We'll run the entire workflow in a single trace\n",
        "#     with trace(\"LLM as a judge\"):\n",
        "#         while True:\n",
        "#             story_outline_result = await Runner.run(\n",
        "#                 story_outline_generator,\n",
        "#                 input_items,\n",
        "#             )\n",
        "#             input_items = story_outline_result.to_input_list()\n",
        "#             latest_outline = ItemHelpers.text_message_outputs(story_outline_result.new_items)\n",
        "#             print(\"Story outline generated\")\n",
        "#             evaluator_result = await Runner.run(evaluator, input_items)\n",
        "#             result: EvaluationFeedback = evaluator_result.final_output\n",
        "#             print(f\"Evaluator score: {result.score}\")\n",
        "#             if result.score == \"pass\":\n",
        "#                 print(\"Story outline is good enough, exiting.\")\n",
        "#                 break\n",
        "#             print(\"Re-running with feedback\")\n",
        "#             input_items.append({\"content\": f\"Feedback: {result.feedback}\", \"role\": \"user\"})\n",
        "#     print(f\"Final story outline: {latest_outline}\")\n",
        "# if __name__ == \"__main__\":\n",
        "#     asyncio.run(main())\n",
        "# Change this code to suit the shopping planner agent above in such a loop like fashion\n",
        "\n",
        "import os\n",
        "from google.colab import userdata\n",
        "from agents import Agent, Runner\n",
        "from pydantic import BaseModel\n",
        "from agents import Agent\n",
        "from agents import Agent, function_tool\n",
        "from agents import WebSearchTool\n",
        "import asyncio\n",
        "from agents import Agent, Runner, handoff, RunContextWrapper\n",
        "from agents import function_tool\n",
        "!pip -q install openai-agents gradio\n",
        "openai_api_key = userdata.get('OPENAI_API_KEY')\n",
        "os.environ['OPENAI_API_KEY'] = openai_api_key\n",
        "\n",
        "# Verify that the key is set\n",
        "print(f\"OpenAI API key set: {bool(openai_api_key)}\")\n",
        "\n",
        "# Shopping Agent\n",
        "shopping_agent = Agent(\n",
        "    name=\"Shopping Agent\",\n",
        "    instructions=(\n",
        "        \"You are a personal shopping assistant.  You will help the user find clothes \"\n",
        "        \"within their specified budget. You have access to web search.  \"\n",
        "        \"Prioritize finding items from reputable online retailers. Return a list of items \"\n",
        "        \"with links and total price.\"\n",
        "    ),\n",
        "    tools=[WebSearchTool()],\n",
        "    model=\"gpt-4o-mini\" # Or a suitable model\n",
        ")\n",
        "\n",
        "# Budget Agent (Handoff)\n",
        "budget_agent = Agent(\n",
        "    name=\"Budget Agent\",\n",
        "    handoff_description=\"Handles budget adjustments and constraints.\",\n",
        "    instructions=\"You review the shopping cart and provide suggestions to stay within budget. \"\n",
        "                 \"Suggest removing higher-priced items or finding cheaper alternatives.\",\n",
        "    model=\"gpt-4o-mini\" # Or a suitable model\n",
        ")\n",
        "\n",
        "\n",
        "def on_budget_handoff(ctx: RunContextWrapper[None]):\n",
        "    print(\"Handing off to budget agent\")\n",
        "\n",
        "\n",
        "# Orchestrator Agent\n",
        "orchestrator_agent = Agent(\n",
        "    name=\"Shopping Orchestrator\",\n",
        "    instructions=\"You manage the shopping process.  Use the Shopping Agent to find items.\"\n",
        "                \"If the budget is exceeded, handoff to the Budget Agent for suggestions.\",\n",
        "    handoffs=[handoff(budget_agent, on_handoff=on_budget_handoff)],\n",
        "    tools=[shopping_agent.as_tool(\n",
        "        tool_name=\"find_clothes\",\n",
        "        tool_description=\"Search for clothes online within a given budget.\"\n",
        "    )],\n",
        "    model=\"gpt-4o-mini\" # Or a suitable model\n",
        ")\n",
        "\n"
      ],
      "metadata": {
        "id": "rcirYHJSvSQ0"
      },
      "execution_count": null,
      "outputs": []
    }
  ]
}